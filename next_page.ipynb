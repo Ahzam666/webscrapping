{
 "cells": [
  {
   "cell_type": "markdown",
   "id": "77a59038",
   "metadata": {},
   "source": [
    "\n",
    "\n",
    "**Description of Project**\n",
    "\n",
    "I have developed a project based on two Python modules: Selenium and BeautifulSoup. These modules are used for automation and web scraping, respectively. The sources that I referred to while working on this project include *\"Master Python Web Scraping and Automation using bs4 and Selenium\"* by Hussain Mustafa on Udemy, ChatGPT, and official documentations.\n",
    "\n",
    "The main objective of my project was to scrape information from a website, specifically from [https://www.stylecentrewholesale.co.uk/](https://www.stylecentrewholesale.co.uk/). The website conveniently had a page containing all the products, which reduced the need for extensive automation.\n",
    "\n",
    "Due to the large amount of data and the limitations of my laptop and internet connection, I divided my project into two separate files:\n",
    "\n",
    "1. `next_page`: In this file, I utilized Selenium to visit each page and extract its link. There were a total of 123 pages.\n",
    "\n",
    "2. `scrapping`: In this file, I used BeautifulSoup to scrape the necessary product information and saved it as a CSV file.\n",
    "\n",
    "\n",
    "\n",
    "To manage the enormous amount of data, I divided the links into four parts and executed the code for each file accordingly. In the end, I successfully scraped data from 123 pages, with each page containing around 24 products, resulting in a single CSV file containing information on 2,256 products.\n",
    "\n",
    "---\n",
    "\n"
   ]
  },
  {
   "cell_type": "code",
   "execution_count": 22,
   "id": "e2761d30",
   "metadata": {},
   "outputs": [],
   "source": [
    "#importing necessary modules\n",
    "from selenium import webdriver\n",
    "from selenium.webdriver.common.keys import Keys\n",
    "from selenium.webdriver.common.by import By\n",
    "from selenium.webdriver.support.ui import WebDriverWait\n",
    "from selenium.webdriver.chrome.options import Options\n",
    "from selenium.common.exceptions import NoSuchElementException\n",
    "\n",
    "import time\n",
    "from datetime import date\n",
    "import os\n",
    "import json\n"
   ]
  },
  {
   "cell_type": "code",
   "execution_count": 30,
   "id": "f60445f4",
   "metadata": {},
   "outputs": [
    {
     "name": "stdout",
     "output_type": "stream",
     "text": [
      "Bot Operation Completed. Press any key...\n",
      "['https://www.stylecentrewholesale.co.uk/collections/all?page=2', 'https://www.stylecentrewholesale.co.uk/collections/all?page=3', 'https://www.stylecentrewholesale.co.uk/collections/all?page=4', 'https://www.stylecentrewholesale.co.uk/collections/all?page=5', 'https://www.stylecentrewholesale.co.uk/collections/all?page=6', 'https://www.stylecentrewholesale.co.uk/collections/all?page=7', 'https://www.stylecentrewholesale.co.uk/collections/all?page=8', 'https://www.stylecentrewholesale.co.uk/collections/all?page=9', 'https://www.stylecentrewholesale.co.uk/collections/all?page=10', 'https://www.stylecentrewholesale.co.uk/collections/all?page=11', 'https://www.stylecentrewholesale.co.uk/collections/all?page=12', 'https://www.stylecentrewholesale.co.uk/collections/all?page=13', 'https://www.stylecentrewholesale.co.uk/collections/all?page=14', 'https://www.stylecentrewholesale.co.uk/collections/all?page=15', 'https://www.stylecentrewholesale.co.uk/collections/all?page=16', 'https://www.stylecentrewholesale.co.uk/collections/all?page=17', 'https://www.stylecentrewholesale.co.uk/collections/all?page=18', 'https://www.stylecentrewholesale.co.uk/collections/all?page=19', 'https://www.stylecentrewholesale.co.uk/collections/all?page=20', 'https://www.stylecentrewholesale.co.uk/collections/all?page=21', 'https://www.stylecentrewholesale.co.uk/collections/all?page=22', 'https://www.stylecentrewholesale.co.uk/collections/all?page=23', 'https://www.stylecentrewholesale.co.uk/collections/all?page=24', 'https://www.stylecentrewholesale.co.uk/collections/all?page=25', 'https://www.stylecentrewholesale.co.uk/collections/all?page=26', 'https://www.stylecentrewholesale.co.uk/collections/all?page=27', 'https://www.stylecentrewholesale.co.uk/collections/all?page=28', 'https://www.stylecentrewholesale.co.uk/collections/all?page=29', 'https://www.stylecentrewholesale.co.uk/collections/all?page=30', 'https://www.stylecentrewholesale.co.uk/collections/all?page=31', 'https://www.stylecentrewholesale.co.uk/collections/all?page=32', 'https://www.stylecentrewholesale.co.uk/collections/all?page=33', 'https://www.stylecentrewholesale.co.uk/collections/all?page=34', 'https://www.stylecentrewholesale.co.uk/collections/all?page=35', 'https://www.stylecentrewholesale.co.uk/collections/all?page=36', 'https://www.stylecentrewholesale.co.uk/collections/all?page=37', 'https://www.stylecentrewholesale.co.uk/collections/all?page=38', 'https://www.stylecentrewholesale.co.uk/collections/all?page=39', 'https://www.stylecentrewholesale.co.uk/collections/all?page=40', 'https://www.stylecentrewholesale.co.uk/collections/all?page=41', 'https://www.stylecentrewholesale.co.uk/collections/all?page=42', 'https://www.stylecentrewholesale.co.uk/collections/all?page=43', 'https://www.stylecentrewholesale.co.uk/collections/all?page=44', 'https://www.stylecentrewholesale.co.uk/collections/all?page=45', 'https://www.stylecentrewholesale.co.uk/collections/all?page=46', 'https://www.stylecentrewholesale.co.uk/collections/all?page=47', 'https://www.stylecentrewholesale.co.uk/collections/all?page=48', 'https://www.stylecentrewholesale.co.uk/collections/all?page=49', 'https://www.stylecentrewholesale.co.uk/collections/all?page=50', 'https://www.stylecentrewholesale.co.uk/collections/all?page=51', 'https://www.stylecentrewholesale.co.uk/collections/all?page=52', 'https://www.stylecentrewholesale.co.uk/collections/all?page=53', 'https://www.stylecentrewholesale.co.uk/collections/all?page=54', 'https://www.stylecentrewholesale.co.uk/collections/all?page=55', 'https://www.stylecentrewholesale.co.uk/collections/all?page=56', 'https://www.stylecentrewholesale.co.uk/collections/all?page=57', 'https://www.stylecentrewholesale.co.uk/collections/all?page=58', 'https://www.stylecentrewholesale.co.uk/collections/all?page=59', 'https://www.stylecentrewholesale.co.uk/collections/all?page=60', 'https://www.stylecentrewholesale.co.uk/collections/all?page=61', 'https://www.stylecentrewholesale.co.uk/collections/all?page=62', 'https://www.stylecentrewholesale.co.uk/collections/all?page=63', 'https://www.stylecentrewholesale.co.uk/collections/all?page=64', 'https://www.stylecentrewholesale.co.uk/collections/all?page=65', 'https://www.stylecentrewholesale.co.uk/collections/all?page=66', 'https://www.stylecentrewholesale.co.uk/collections/all?page=67', 'https://www.stylecentrewholesale.co.uk/collections/all?page=68', 'https://www.stylecentrewholesale.co.uk/collections/all?page=69', 'https://www.stylecentrewholesale.co.uk/collections/all?page=70', 'https://www.stylecentrewholesale.co.uk/collections/all?page=71', 'https://www.stylecentrewholesale.co.uk/collections/all?page=72', 'https://www.stylecentrewholesale.co.uk/collections/all?page=73', 'https://www.stylecentrewholesale.co.uk/collections/all?page=74', 'https://www.stylecentrewholesale.co.uk/collections/all?page=75', 'https://www.stylecentrewholesale.co.uk/collections/all?page=76', 'https://www.stylecentrewholesale.co.uk/collections/all?page=77', 'https://www.stylecentrewholesale.co.uk/collections/all?page=78', 'https://www.stylecentrewholesale.co.uk/collections/all?page=79', 'https://www.stylecentrewholesale.co.uk/collections/all?page=80', 'https://www.stylecentrewholesale.co.uk/collections/all?page=81', 'https://www.stylecentrewholesale.co.uk/collections/all?page=82', 'https://www.stylecentrewholesale.co.uk/collections/all?page=83', 'https://www.stylecentrewholesale.co.uk/collections/all?page=84', 'https://www.stylecentrewholesale.co.uk/collections/all?page=85', 'https://www.stylecentrewholesale.co.uk/collections/all?page=86', 'https://www.stylecentrewholesale.co.uk/collections/all?page=87', 'https://www.stylecentrewholesale.co.uk/collections/all?page=88', 'https://www.stylecentrewholesale.co.uk/collections/all?page=89', 'https://www.stylecentrewholesale.co.uk/collections/all?page=90', 'https://www.stylecentrewholesale.co.uk/collections/all?page=91', 'https://www.stylecentrewholesale.co.uk/collections/all?page=92', 'https://www.stylecentrewholesale.co.uk/collections/all?page=93', 'https://www.stylecentrewholesale.co.uk/collections/all?page=94', 'https://www.stylecentrewholesale.co.uk/collections/all?page=95', 'https://www.stylecentrewholesale.co.uk/collections/all?page=96', 'https://www.stylecentrewholesale.co.uk/collections/all?page=97', 'https://www.stylecentrewholesale.co.uk/collections/all?page=98', 'https://www.stylecentrewholesale.co.uk/collections/all?page=99', 'https://www.stylecentrewholesale.co.uk/collections/all?page=100', 'https://www.stylecentrewholesale.co.uk/collections/all?page=101', 'https://www.stylecentrewholesale.co.uk/collections/all?page=102', 'https://www.stylecentrewholesale.co.uk/collections/all?page=103', 'https://www.stylecentrewholesale.co.uk/collections/all?page=104', 'https://www.stylecentrewholesale.co.uk/collections/all?page=105', 'https://www.stylecentrewholesale.co.uk/collections/all?page=106', 'https://www.stylecentrewholesale.co.uk/collections/all?page=107', 'https://www.stylecentrewholesale.co.uk/collections/all?page=108', 'https://www.stylecentrewholesale.co.uk/collections/all?page=109', 'https://www.stylecentrewholesale.co.uk/collections/all?page=110', 'https://www.stylecentrewholesale.co.uk/collections/all?page=111', 'https://www.stylecentrewholesale.co.uk/collections/all?page=112', 'https://www.stylecentrewholesale.co.uk/collections/all?page=113', 'https://www.stylecentrewholesale.co.uk/collections/all?page=114', 'https://www.stylecentrewholesale.co.uk/collections/all?page=115', 'https://www.stylecentrewholesale.co.uk/collections/all?page=116', 'https://www.stylecentrewholesale.co.uk/collections/all?page=117', 'https://www.stylecentrewholesale.co.uk/collections/all?page=118', 'https://www.stylecentrewholesale.co.uk/collections/all?page=119', 'https://www.stylecentrewholesale.co.uk/collections/all?page=120', 'https://www.stylecentrewholesale.co.uk/collections/all?page=121', 'https://www.stylecentrewholesale.co.uk/collections/all?page=122', 'https://www.stylecentrewholesale.co.uk/collections/all?page=123']\n"
     ]
    }
   ],
   "source": [
    "#initializing selenium chrome driver\n",
    "DRIVER = webdriver.Chrome()\n",
    "#the function main() initiate the code and call other function and save all the data into a list\n",
    "def main():\n",
    "    try:\n",
    "        DRIVER.get(\"https://www.stylecentrewholesale.co.uk/collections/all\")\n",
    "        page_list = next_page()\n",
    "        input(\"Bot Operation Completed. Press any key...\")\n",
    "        DRIVER.close()\n",
    "        return page_list\n",
    "    except Exception as e:\n",
    "        print(e)\n",
    "        DRIVER.close()\n",
    "    return page_list\n",
    "#the function next_page goes through each page and collects the source url of that page\n",
    "def next_page():\n",
    "    \n",
    "    page_list = [] \n",
    "    while True:\n",
    "        try:\n",
    "            #find the path for the next page and click it\n",
    "            main = DRIVER.find_element(By.XPATH, '//ul[@class=\"pagination-custom\"]/child::li/child::a[contains(text(),\"→\")]')\n",
    "            main.click()\n",
    "            #save the current url into a list\n",
    "            page_list.append(DRIVER.current_url)\n",
    "            time.sleep(3)\n",
    "        except NoSuchElementException:\n",
    "            # If the \"→\" element is not found, it means no more pages are left, so break the loop\n",
    "            break\n",
    "    return page_list\n",
    "#intiliaze the code \n",
    "if __name__ == \"__main__\":\n",
    "    page_list_result = main()\n",
    "    print(page_list_result)\n",
    "\n"
   ]
  },
  {
   "cell_type": "code",
   "execution_count": 41,
   "id": "1fb5868b",
   "metadata": {},
   "outputs": [
    {
     "data": {
      "text/html": [
       "<div>\n",
       "<style scoped>\n",
       "    .dataframe tbody tr th:only-of-type {\n",
       "        vertical-align: middle;\n",
       "    }\n",
       "\n",
       "    .dataframe tbody tr th {\n",
       "        vertical-align: top;\n",
       "    }\n",
       "\n",
       "    .dataframe thead th {\n",
       "        text-align: right;\n",
       "    }\n",
       "</style>\n",
       "<table border=\"1\" class=\"dataframe\">\n",
       "  <thead>\n",
       "    <tr style=\"text-align: right;\">\n",
       "      <th></th>\n",
       "      <th>page_link</th>\n",
       "    </tr>\n",
       "  </thead>\n",
       "  <tbody>\n",
       "    <tr>\n",
       "      <th>0</th>\n",
       "      <td>https://www.stylecentrewholesale.co.uk/collect...</td>\n",
       "    </tr>\n",
       "    <tr>\n",
       "      <th>1</th>\n",
       "      <td>https://www.stylecentrewholesale.co.uk/collect...</td>\n",
       "    </tr>\n",
       "    <tr>\n",
       "      <th>2</th>\n",
       "      <td>https://www.stylecentrewholesale.co.uk/collect...</td>\n",
       "    </tr>\n",
       "    <tr>\n",
       "      <th>3</th>\n",
       "      <td>https://www.stylecentrewholesale.co.uk/collect...</td>\n",
       "    </tr>\n",
       "    <tr>\n",
       "      <th>4</th>\n",
       "      <td>https://www.stylecentrewholesale.co.uk/collect...</td>\n",
       "    </tr>\n",
       "    <tr>\n",
       "      <th>...</th>\n",
       "      <td>...</td>\n",
       "    </tr>\n",
       "    <tr>\n",
       "      <th>119</th>\n",
       "      <td>https://www.stylecentrewholesale.co.uk/collect...</td>\n",
       "    </tr>\n",
       "    <tr>\n",
       "      <th>120</th>\n",
       "      <td>https://www.stylecentrewholesale.co.uk/collect...</td>\n",
       "    </tr>\n",
       "    <tr>\n",
       "      <th>121</th>\n",
       "      <td>https://www.stylecentrewholesale.co.uk/collect...</td>\n",
       "    </tr>\n",
       "    <tr>\n",
       "      <th>122</th>\n",
       "      <td>https://www.stylecentrewholesale.co.uk/collect...</td>\n",
       "    </tr>\n",
       "    <tr>\n",
       "      <th>123</th>\n",
       "      <td>https://www.stylecentrewholesale.co.uk/collect...</td>\n",
       "    </tr>\n",
       "  </tbody>\n",
       "</table>\n",
       "<p>124 rows × 1 columns</p>\n",
       "</div>"
      ],
      "text/plain": [
       "                                             page_link\n",
       "0    https://www.stylecentrewholesale.co.uk/collect...\n",
       "1    https://www.stylecentrewholesale.co.uk/collect...\n",
       "2    https://www.stylecentrewholesale.co.uk/collect...\n",
       "3    https://www.stylecentrewholesale.co.uk/collect...\n",
       "4    https://www.stylecentrewholesale.co.uk/collect...\n",
       "..                                                 ...\n",
       "119  https://www.stylecentrewholesale.co.uk/collect...\n",
       "120  https://www.stylecentrewholesale.co.uk/collect...\n",
       "121  https://www.stylecentrewholesale.co.uk/collect...\n",
       "122  https://www.stylecentrewholesale.co.uk/collect...\n",
       "123  https://www.stylecentrewholesale.co.uk/collect...\n",
       "\n",
       "[124 rows x 1 columns]"
      ]
     },
     "execution_count": 41,
     "metadata": {},
     "output_type": "execute_result"
    }
   ],
   "source": [
    "import pandas as pd\n",
    "#insert the link of first page\n",
    "page_list_result.insert(0,'https://www.stylecentrewholesale.co.uk/collections/all')\n",
    "#save the list as a pandas DataFrame\n",
    "df_dict = {'page_link':page_list_result}\n",
    "df= pd.DataFrame(df_dict)\n",
    "df"
   ]
  },
  {
   "cell_type": "code",
   "execution_count": 42,
   "id": "3df5fd5b",
   "metadata": {},
   "outputs": [],
   "source": [
    "df.to_csv('pages_link.csv',index=False)"
   ]
  }
 ],
 "metadata": {
  "kernelspec": {
   "display_name": "Python 3 (ipykernel)",
   "language": "python",
   "name": "python3"
  },
  "language_info": {
   "codemirror_mode": {
    "name": "ipython",
    "version": 3
   },
   "file_extension": ".py",
   "mimetype": "text/x-python",
   "name": "python",
   "nbconvert_exporter": "python",
   "pygments_lexer": "ipython3",
   "version": "3.10.9"
  }
 },
 "nbformat": 4,
 "nbformat_minor": 5
}
